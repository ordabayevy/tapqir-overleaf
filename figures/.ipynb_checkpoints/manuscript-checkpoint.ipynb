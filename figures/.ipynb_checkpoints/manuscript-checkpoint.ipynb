{
 "cells": [
  {
   "cell_type": "markdown",
   "metadata": {},
   "source": [
    "## Mathematical model\n",
    "Product rule\n",
    "$$ p(X,Z,\\theta) = p(X|Z,\\theta)p(Z|\\theta)p(\\theta) = p(Z|\\theta,X)p(\\theta|X)p(X) $$\n",
    "\n",
    "Bayes rule\n",
    "$$ p(Z|\\theta,X)p(\\theta|X) = \\dfrac{p(X|Z,\\theta)p(Z|\\theta)p(\\theta)}{p(X)} $$\n",
    "\n",
    "$$ p(Z|\\pi,X)p(\\mu|X)p(\\eta|X)p(\\pi|X) = \\dfrac{p(X|Z,\\mu,\\eta)p(Z|\\pi)p(\\mu)p(\\eta)p(\\pi)}{p(X)} $$\n",
    "\n",
    "Likelihood\n",
    "$$ p(X|Z,\\mu,\\eta) = \\prod_f p(X_f|Z_f,\\mu,\\eta) = \\prod_f \\prod_{ij} p(X_{fij}|Z_f,\\mu,\\eta) = \\prod_f \\prod_{ij} Noise(X_{fij}|Z_f,\\mu,\\eta) $$\n",
    "\n",
    "where $\\mu$ is a spot model\n",
    "$$ \\mu(height_k,width_k,x_k,y_k,background) $$\n",
    "\n",
    "Prior\n",
    "$$ p(Z|\\theta) = \\prod_f p(Z_f|\\theta) = \\prod_f Categorical(Z_f|\\pi) = \\prod_f \\prod_k \\pi_k^{Z_{fk}} $$\n",
    "\n",
    "Posterior\n",
    "$$ p(\\theta|X) $$\n",
    "\n",
    "$$ p(Z|X,\\theta) = \\prod_f p(Z_f|X_f,\\theta) $$\n",
    "\n",
    "where\n",
    "$$ \\theta = \\mu \\cup \\eta \\cup \\pi $$"
   ]
  },
  {
   "cell_type": "markdown",
   "metadata": {},
   "source": [
    "$$ p(D,b,m,\\theta,h,w,x_0,y_0) = p(b)p(m)p(\\theta|m)p(h|m)p(w|m)p(x_0|m,\\theta)p(y_0|m,\\theta)p(D|b,h,w,x_0,y_0,gain,offset) $$"
   ]
  },
  {
   "cell_type": "markdown",
   "metadata": {},
   "source": [
    "### Model\n",
    "$$ p = p(b)p(m)p(\\theta|m)p(h|m)p(w|m)p(x|m,\\theta)p(y|m,\\theta)p(D|b,h,w,x,y) $$ \n",
    "\n",
    "$$ = \\prod_{n,f} p(b_{n,f})p(m_{n,f})p(\\theta_{n,f}|m_{n,f}) $$\n",
    "\n",
    "$$ \\prod_{k} p(h_{n,f,k}|m_{n,f})p(w_{n,f,k}|m_{n,f})p(x_{n,f,k}|m_{n,f},\\theta_{n,f})p(y_{n,f,k}|m_{n,f},\\theta_{n,f}) $$\n",
    "\n",
    "$$ \\prod_{x,y} p(D_{n,f,x,y}|b_{n,f},h_{n,f,k},w_{n,f,k},x_{n,f,k},y_{n,f,k},gain,offset) $$"
   ]
  },
  {
   "cell_type": "markdown",
   "metadata": {},
   "source": [
    "### Guide\n",
    "\n",
    "$$ q = q(b)q(m)q(\\theta|m)q(h)q(w)q(x|m)q(y|m) $$\n",
    "\n",
    "$$ = \\prod_{n,f} q(b_{n,f})q(m_{n,f})q(\\theta_{n,f}|m_{n,f}) $$\n",
    "\n",
    "$$ \\prod_{k} q(h_{n,f,k}|m_{n,f})q(w_{n,f,k}|m_{n,f})q(x_{n,f,k}|m_{n,f})q(y_{n,f,k}|m_{n,f}) $$"
   ]
  },
  {
   "cell_type": "markdown",
   "metadata": {},
   "source": [
    "$$ p(x,z,\\mu,\\sigma, \\pi) = p(x|z,\\mu,\\sigma)p(z|\\pi)p(\\mu)p(\\sigma)p(\\pi) $$\n",
    "\n",
    "$$ \\prod_n \\prod_f p(x_{nf}|z_{nf},\\mu_{nf},\\sigma)p(z_{nf}|\\pi)p(\\mu_{nf})p(\\sigma)p(\\pi) $$\n",
    "\n",
    "$$ p(x|z,\\mu,\\sigma) = \\prod_n \\prod_f p(x_{nf}|\\mu_{nf}[z_f],\\sigma) $$\n",
    "\n",
    "$$ p(z|\\pi) = \\prod_n \\prod_f \\pi[z_{nf}] $$"
   ]
  },
  {
   "cell_type": "markdown",
   "metadata": {},
   "source": [
    "### Spot model\n",
    "$$ \\mu_{fij}(Z_f,height_k,width_k,x_k,y_k,background) $$\n",
    "\n",
    "$$ p(\\mu|X) \\simeq q(background) \\prod_k q(height_k) q(width_k) q(x_k) q(y_k) $$\n",
    "\n",
    "$$ q(height_k) = Normal(height\\_loc_k, height\\_scale_k) $$\n",
    "\n",
    "$$ q(background) = Normal(background\\_loc, background\\_scale) $$\n",
    "\n",
    "$$ q(width_k) = Delta(w_k) $$\n",
    "\n",
    "$$ q(x_k) = Delta(x_k) $$\n",
    "\n",
    "$$ q(y_k) = Delta(y_k) $$"
   ]
  },
  {
   "cell_type": "markdown",
   "metadata": {},
   "source": [
    "### Noise model (Likelihood)\n",
    "\n",
    "$$ p(X_{fij}|Z_f,\\mu,\\eta) = Gamma(X_{fij}-offset|\\alpha_{fij}, \\beta_{fij})Delta(offset) $$\n",
    "where\n",
    "$$ \\alpha_{fij} = \\dfrac{\\mu_{fij}(Z_f,\\theta)}{gain}; \\beta_{fij} = \\dfrac{1}{gain} $$\n",
    "\n",
    "$$ \\eta = \\{gain, offset\\} $$\n",
    "\n",
    "$$ p(\\eta|X) \\simeq q(gain) q(offset) = Delta(g)Delta(o) $$"
   ]
  },
  {
   "cell_type": "markdown",
   "metadata": {},
   "source": [
    "### Classification\n",
    "\n",
    "$$ p(\\pi|X) = q(\\pi) =  Dirichlet(\\rho_1,...,\\rho_K) $$\n",
    "\n",
    "\n",
    "$$ p(Z_f|X_f,\\pi) = q(Z_f) = Categorical(Z_f|z\\_prob_f) = \\prod_k z\\_prob_{fk}^{Z_{fk}} $$"
   ]
  },
  {
   "cell_type": "code",
   "execution_count": 1,
   "metadata": {},
   "outputs": [],
   "source": [
    "import numpy as np\n",
    "import matplotlib.pyplot as plt\n",
    "%matplotlib inline"
   ]
  },
  {
   "cell_type": "code",
   "execution_count": 3,
   "metadata": {},
   "outputs": [
    {
     "data": {
      "image/png": "[encoded data removed]",
      "text/plain": [
       "<Figure size 432x288 with 1 Axes>"
      ]
     },
     "metadata": {
      "needs_background": "light"
     },
     "output_type": "display_data"
    }
   ],
   "source": [
    "od = [0., 0.3, 0.6, 0.8, 1.1, 1.3]\n",
    "bayes_mcc = [0.8349, 0.9303, 0.9336, 0.7625, 0.5713, 0.449]\n",
    "sp_mcc = [0.9011, 0.9408, 0.9613, 0.8414, 0.6655, 0.5787]\n",
    "#tpr = [0.98, 0.925, 0.72, 0.252]\n",
    "#tnr = [0.993, 0.996, 0.995, 0.999]\n",
    "\n",
    "plt.figure(figsize=(6,4))\n",
    "plt.plot(od, bayes_mcc, marker=\"o\", label=\"Bayesian\")\n",
    "plt.plot(od, sp_mcc, marker=\"o\", label=\"Spotpicker\")\n",
    "#plt.plot(od, tpr, marker=\"o\", label=\"TPR\")\n",
    "#plt.plot(od, tnr, marker=\"o\", label=\"TNR\")\n",
    "plt.xlabel(\"Neutral filter OD\", size=16)\n",
    "plt.ylabel(\"Accuracy\", size=16)\n",
    "plt.xlim(-0.1, 1.5)\n",
    "plt.ylim(0, 1.05)\n",
    "plt.legend(fontsize=16)\n",
    "plt.xticks(fontsize=16)\n",
    "plt.yticks(fontsize=16)\n",
    "plt.show()"
   ]
  },
  {
   "cell_type": "code",
   "execution_count": 27,
   "metadata": {},
   "outputs": [
    {
     "data": {
      "text/plain": [
       "'Graph.gv.pdf'"
      ]
     },
     "execution_count": 27,
     "metadata": {},
     "output_type": "execute_result"
    }
   ],
   "source": [
    "import graphviz\n",
    "\n",
    "d = graphviz.Graph()\n",
    "\n",
    "d.node(\"m\", shape=\"circle\")\n",
    "\n",
    "d.node(\"theta\", label=\"<&theta;>\", shape=\"circle\")\n",
    "\n",
    "with d.subgraph() as s:\n",
    "    s.attr(rank=\"same\")\n",
    "    d.node(\"p_b\", label=\"\", fixedsize=\"shape\", shape=\"box\", height=\"0.15\", width=\"0.15\", style=\"filled\", fillcolor=\"black\")\n",
    "    d.node(\"p_h\", label=\"\", fixedsize=\"shape\", shape=\"box\", height=\"0.15\", width=\"0.15\", style=\"filled\", fillcolor=\"black\")\n",
    "    d.node(\"p_w\", label=\"\", fixedsize=\"shape\", shape=\"box\", height=\"0.15\", width=\"0.15\", style=\"filled\", fillcolor=\"black\")\n",
    "    d.node(\"p_x\", label=\"\", fixedsize=\"shape\", shape=\"box\", height=\"0.15\", width=\"0.15\", style=\"filled\", fillcolor=\"black\")\n",
    "\n",
    "with d.subgraph() as s:\n",
    "    s.attr(rank='same')\n",
    "    s.node(\"b\", shape=\"circle\")\n",
    "    s.node(\"h\", shape=\"circle\")\n",
    "    s.node(\"w\", shape=\"circle\")\n",
    "    s.node(\"x\", shape=\"circle\")\n",
    "\n",
    "d.node(\"mu\", shape=\"diamond\", label=\"<&mu;>\")\n",
    "d.node(\"p_D\", label=\"\", fixedsize=\"shape\", shape=\"box\", height=\"0.15\", width=\"0.15\", style=\"filled\", fillcolor=\"black\")\n",
    "d.node(\"D\", shape=\"circle\")\n",
    "\n",
    "d.edge(\"p_b\", \"b\")\n",
    "d.edge(\"p_h\", \"h\")\n",
    "d.edge(\"p_w\", \"w\")\n",
    "d.edge(\"p_x\", \"x\")\n",
    "\n",
    "d.edge(\"m\", \"theta\")\n",
    "d.edge(\"theta\", \"w\")\n",
    "d.edge(\"theta\", \"x\")\n",
    "d.edge(\"b\", \"mu\")\n",
    "d.edge(\"h\", \"mu\")\n",
    "d.edge(\"w\", \"mu\")\n",
    "d.edge(\"x\", \"mu\")\n",
    "d.edge(\"mu\", \"p_D\")\n",
    "d.edge(\"p_D\", \"D\")\n",
    "#d.edges(['hmu', 'wmu', 'x-ymu'])\n",
    "\n",
    "d.view()"
   ]
  },
  {
   "cell_type": "code",
   "execution_count": 28,
   "metadata": {},
   "outputs": [
    {
     "data": {
      "text/plain": [
       "'Graph.gv.pdf'"
      ]
     },
     "execution_count": 28,
     "metadata": {},
     "output_type": "execute_result"
    }
   ],
   "source": [
    "import graphviz\n",
    "\n",
    "d = graphviz.Graph()\n",
    "\n",
    "with d.subgraph() as g:\n",
    "    g.attr(rank=\"same\")\n",
    "    g.node(\"h_mean\", label=\"<&mu;<sub>h</sub>>\", shape=\"plain\")\n",
    "    g.node(\"h_beta\", label=\"<&beta;<sub>h</sub>>\", shape=\"plain\")\n",
    "    g.node(\"x_mode\", label=\"<&mu;<sub>x</sub>=0>\", shape=\"plain\")\n",
    "    g.node(\"x_size\", label=\"<&sigma;<sub>x</sub>=[2, 280]>\", shape=\"plain\")\n",
    "    g.node(\"w_mode\", label=\"<&mu;<sub>w</sub>>\", shape=\"plain\")\n",
    "    g.node(\"w_size\", label=\"<&sigma;<sub>w</sub>>\", shape=\"plain\")\n",
    "    g.node(\"gain\", label=\"gain\", shape=\"plain\")\n",
    "    g.node(\"offset\", label=\"offset\", shape=\"plain\")\n",
    "\n",
    "    with d.subgraph(name=\"clusterN\") as n:\n",
    "        n.attr(label=\"N\")\n",
    "        #n.node(\"p_b\", shape=\"point\")\n",
    "        with n.subgraph(name=\"clusterF\") as f:\n",
    "            f.node(\"p_h\", label=\"\", fixedsize=\"shape\", shape=\"box\", height=\"0.15\", width=\"0.15\", style=\"filled\", fillcolor=\"black\")\n",
    "            f.node(\"p_w\", label=\"\", fixedsize=\"shape\", shape=\"box\", height=\"0.15\", width=\"0.15\", style=\"filled\", fillcolor=\"black\")\n",
    "            f.node(\"p_x\", label=\"\", fixedsize=\"shape\", shape=\"box\", height=\"0.15\", width=\"0.15\", style=\"filled\", fillcolor=\"black\")\n",
    "            f.node(\"p_b\", label=\"\", fixedsize=\"shape\", shape=\"box\", height=\"0.15\", width=\"0.15\", style=\"filled\", fillcolor=\"black\")\n",
    "            f.node(\"p_m\", label=\"\", fixedsize=\"shape\", shape=\"box\", height=\"0.15\", width=\"0.15\", style=\"filled\", fillcolor=\"black\")\n",
    "            f.node(\"p_theta\", label=\"\", fixedsize=\"shape\", shape=\"box\", height=\"0.15\", width=\"0.15\", style=\"filled\", fillcolor=\"black\")\n",
    "    \n",
    "            f.attr(rank=\"same\", label=\"F\")\n",
    "            f.node(\"b\", shape=\"circle\")\n",
    "            f.node(\"m\", shape=\"circle\")\n",
    "            f.node(\"theta\", label=\"<&theta;>\", shape=\"circle\")\n",
    "            with f.subgraph(name=\"clusterK\") as k:\n",
    "                k.attr(rank=\"same\", label=\"K\")\n",
    "                k.node(\"h\", shape=\"circle\")\n",
    "                k.node(\"w\", shape=\"circle\")\n",
    "                k.node(\"x\", shape=\"circle\")\n",
    "            f.node(\"mu\", shape=\"diamond\", label=\"<&mu;>\")\n",
    "            f.node(\"p_D\", label=\"\", fixedsize=\"shape\", shape=\"box\", height=\"0.15\", width=\"0.15\", style=\"filled\", fillcolor=\"black\")\n",
    "            f.node(\"D\", shape=\"circle\")\n",
    "\n",
    "d.edge(\"h_mean\", \"p_h\")\n",
    "d.edge(\"h_beta\", \"p_h\")\n",
    "d.edge(\"x_mode\", \"p_x\")\n",
    "d.edge(\"x_size\", \"p_x\")\n",
    "d.edge(\"w_mode\", \"p_w\")\n",
    "d.edge(\"w_size\", \"p_w\")\n",
    "            \n",
    "d.edge(\"p_m\", \"m\")\n",
    "d.edge(\"m\", \"p_theta\")\n",
    "d.edge(\"p_theta\", \"theta\")\n",
    "d.edge(\"theta\", \"p_x\")\n",
    "d.edge(\"theta\", \"p_w\")\n",
    "d.edge(\"p_b\", \"b\")\n",
    "d.edge(\"p_h\", \"h\")\n",
    "d.edge(\"p_w\", \"w\")\n",
    "d.edge(\"p_x\", \"x\")\n",
    "\n",
    "d.edge(\"b\", \"mu\")\n",
    "d.edge(\"h\", \"mu\")\n",
    "d.edge(\"w\", \"mu\")\n",
    "d.edge(\"x\", \"mu\")\n",
    "d.edge(\"mu\", \"p_D\")\n",
    "d.edge(\"p_D\", \"D\")\n",
    "d.edge(\"gain\", \"p_D\")\n",
    "d.edge(\"offset\", \"p_D\")\n",
    "\n",
    "\n",
    "#d.edges(['hmu', 'wmu', 'x-ymu'])\n",
    "\n",
    "d.view()"
   ]
  },
  {
   "cell_type": "code",
   "execution_count": null,
   "metadata": {},
   "outputs": [],
   "source": []
  }
 ],
 "metadata": {
  "kernelspec": {
   "display_name": "Python 3",
   "language": "python",
   "name": "python3"
  },
  "language_info": {
   "codemirror_mode": {
    "name": "ipython",
    "version": 3
   },
   "file_extension": ".py",
   "mimetype": "text/x-python",
   "name": "python",
   "nbconvert_exporter": "python",
   "pygments_lexer": "ipython3",
   "version": "3.7.6"
  }
 },
 "nbformat": 4,
 "nbformat_minor": 4
}
