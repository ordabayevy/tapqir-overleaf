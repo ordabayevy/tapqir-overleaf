{
  "nbformat": 4,
  "nbformat_minor": 5,
  "metadata": {
    "colab": {
      "name": "DatasetB.ipynb",
      "provenance": [],
      "include_colab_link": true
    },
    "accelerator": "GPU",
    "language_info": {
      "name": "python"
    },
    "kernelspec": {
      "name": "python3",
      "display_name": "Python 3"
    }
  },
  "cells": [
    {
      "cell_type": "markdown",
      "metadata": {
        "id": "view-in-github",
        "colab_type": "text"
      },
      "source": [
        "<a href=\"https://colab.research.google.com/github/ordabayevy/tapqir-overleaf/blob/master/notebooks/DatasetB.ipynb\" target=\"_parent\"><img src=\"https://colab.research.google.com/assets/colab-badge.svg\" alt=\"Open In Colab\"/></a>"
      ]
    },
    {
      "cell_type": "code",
      "metadata": {
        "id": "DrJRTD20GzW4",
        "outputId": "04ab68d5-a677-461c-882d-f905f92c91ff",
        "colab": {
          "base_uri": "https://localhost:8080/"
        }
      },
      "source": [
        "# If you are running tutorial in Google Colab do this steps first\n",
        "# 1) Change runtime to GPU (Runtime -> Change runtime type -> GPU)\n",
        "# 2) Run this cell to install Tapqir in Google Colab\n",
        "import sys\n",
        "IN_COLAB = \"google.colab\" in sys.modules\n",
        "if IN_COLAB:\n",
        "    !pip install --quiet git+https://github.com/gelles-brandeis/tapqir.git > install.log\n",
        "    # mount google drive\n",
        "    from google.colab import drive\n",
        "    drive.mount('/content/drive')"
      ],
      "id": "DrJRTD20GzW4",
      "execution_count": 1,
      "outputs": [
        {
          "output_type": "stream",
          "text": [
            "Mounted at /content/drive\n"
          ],
          "name": "stdout"
        }
      ]
    },
    {
      "cell_type": "code",
      "metadata": {
        "id": "w-7UhkRpG2it"
      },
      "source": [
        "%%capture\n",
        "# Download glimpse files\n",
        "!wget http://centaur.biochem.brandeis.edu/DatasetB_glimpse.zip\n",
        "!unzip DatasetB_glimpse.zip && rm DatasetB_glimpse.zip"
      ],
      "id": "w-7UhkRpG2it",
      "execution_count": 2,
      "outputs": []
    },
    {
      "cell_type": "code",
      "metadata": {
        "id": "WAiDPMgqHE4s"
      },
      "source": [
        "# new empty directory to store data files and analysis results\n",
        "!mkdir drive/MyDrive/DatasetB"
      ],
      "id": "WAiDPMgqHE4s",
      "execution_count": 3,
      "outputs": []
    },
    {
      "cell_type": "code",
      "metadata": {
        "id": "E6cw-1HzHH1r",
        "outputId": "a2585f94-8164-42f2-bb6e-46108dc3f0ca",
        "colab": {
          "base_uri": "https://localhost:8080/"
        }
      },
      "source": [
        "!tapqir config drive/MyDrive/DatasetB"
      ],
      "id": "E6cw-1HzHH1r",
      "execution_count": 4,
      "outputs": [
        {
          "output_type": "stream",
          "text": [
            "\u001b[0m"
          ],
          "name": "stdout"
        }
      ]
    },
    {
      "cell_type": "markdown",
      "metadata": {
        "id": "2qEeLA8FHMkC"
      },
      "source": [
        "Edit the `options.cfg` file to indicate the locations of glimpse and preprocessing files:\n",
        "\n",
        "```\n",
        "[glimpse]\n",
        "title = sigma54RNAPCy3-597P255\n",
        "dir = DatasetB_glimpse/b24p143a_328\n",
        "ontarget_aoiinfo = DatasetB_glimpse/DNA_locations.dat\n",
        "offtarget_aoiinfo = DatasetB_glimpse/nonDNA_locations.dat\n",
        "driftlist = DatasetB_glimpse/driftlist.dat\n",
        "frame_start = 170\n",
        "frame_end = 4576\n",
        "ontarget_labels = DatasetB_glimpse/DNA_intervals.dat\n",
        "offtarget_labels = DatasetB_glimpse/nonDNA_intervals.dat\n",
        "```"
      ],
      "id": "2qEeLA8FHMkC"
    },
    {
      "cell_type": "code",
      "metadata": {
        "id": "WP3XnjGIHiFd",
        "outputId": "dcbbbee0-63bc-4782-dc13-f87ca492e919",
        "colab": {
          "base_uri": "https://localhost:8080/"
        }
      },
      "source": [
        "!tapqir glimpse drive/MyDrive/DatasetB"
      ],
      "id": "WP3XnjGIHiFd",
      "execution_count": 5,
      "outputs": [
        {
          "output_type": "stream",
          "text": [
            "NumExpr defaulting to 2 threads.\n",
            "INFO - Processing glimpse files ...\n",
            "100% 4407/4407 [00:09<00:00, 441.07it/s]\n",
            "INFO - On-target data: N=102 AOIs, F=4407 frames, P=14 pixels, P=14 pixels\n",
            "INFO - Off-target data: N=127 AOIs, F=4407 frames, P=14 pixels, P=14 pixels\n",
            "INFO - Data is saved in drive/MyDrive/DatasetB/data.tpqr\n",
            "\u001b[0m"
          ],
          "name": "stdout"
        }
      ]
    },
    {
      "cell_type": "code",
      "metadata": {
        "id": "1v6_0lODHvmY",
        "outputId": "475505f7-6e72-42e6-b999-74f74b369a8b",
        "colab": {
          "base_uri": "https://localhost:8080/"
        }
      },
      "source": [
        "!tapqir fit marginal drive/MyDrive/DatasetB -bs 4 -it 0"
      ],
      "id": "1v6_0lODHvmY",
      "execution_count": 6,
      "outputs": [
        {
          "output_type": "stream",
          "text": [
            "INFO - Device - cuda\n",
            "INFO - Floating precision - torch.float64\n",
            "INFO - Tapqir version - v1.1.6+502.gd337789\n",
            "INFO - Model - marginal\n",
            "INFO - Loaded data from drive/MyDrive/DatasetB/data.tpqr\n",
            "INFO - Optimizer - Adam\n",
            "INFO - Learning rate - 0.005\n",
            "INFO - Batch size - 4\n",
            "INFO - nojit\n",
            "  0% 262/70000 [03:44<16:36:10,  1.17it/s]\n",
            "\u001b[0m"
          ],
          "name": "stdout"
        }
      ]
    }
  ]
}